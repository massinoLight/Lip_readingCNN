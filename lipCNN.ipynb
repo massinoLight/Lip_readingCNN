{
 "cells": [
  {
   "cell_type": "code",
   "execution_count": 8,
   "metadata": {},
   "outputs": [
    {
     "name": "stdout",
     "output_type": "stream",
     "text": [
      "dataset\n",
      "/Users/massino/Desktop/TensorFlow/dataset\n"
     ]
    }
   ],
   "source": [
    "#Import une partie de la dataset seulement 14Mo\n",
    "import pathlib\n",
    "import os\n",
    "import cv2\n",
    "import numpy as np\n",
    "import requests\n",
    "import matplotlib.pyplot as plt\n",
    "import matplotlib.image as mpimg\n",
    "import sys\n",
    "import datetime\n",
    "from tensorflow import keras\n",
    "from tensorflow.keras.models import Model\n",
    "import tensorflow as tf\n",
    "\n",
    "\n",
    "data_url = pathlib.Path('./dataset/')\n",
    "print(data_url)\n",
    "print(os.path.abspath(data_url))"
   ]
  },
  {
   "cell_type": "code",
   "execution_count": 9,
   "metadata": {},
   "outputs": [
    {
     "name": "stdout",
     "output_type": "stream",
     "text": [
      "<generator object Path.glob at 0x7fb9f0156a50>\n",
      "0\n"
     ]
    }
   ],
   "source": [
    "print(data_url.glob('*.*'))\n",
    "image_count = len(list(data_url.glob('*')))\n",
    "print(image_count)"
   ]
  },
  {
   "cell_type": "code",
   "execution_count": 23,
   "metadata": {},
   "outputs": [
    {
     "name": "stdout",
     "output_type": "stream",
     "text": [
      "/Users/massino/Desktop/TensorFlow/dataset\n",
      "[]\n"
     ]
    }
   ],
   "source": [
    "import glob\n",
    "print(os.path.abspath(data_url))\n",
    "print(glob.glob(os.path.abspath(data_url)+\"*.jpg\"))"
   ]
  },
  {
   "cell_type": "code",
   "execution_count": null,
   "metadata": {},
   "outputs": [],
   "source": []
  }
 ],
 "metadata": {
  "kernelspec": {
   "display_name": "Python 3",
   "language": "python",
   "name": "python3"
  },
  "language_info": {
   "codemirror_mode": {
    "name": "ipython",
    "version": 3
   },
   "file_extension": ".py",
   "mimetype": "text/x-python",
   "name": "python",
   "nbconvert_exporter": "python",
   "pygments_lexer": "ipython3",
   "version": "3.8.5"
  }
 },
 "nbformat": 4,
 "nbformat_minor": 4
}
