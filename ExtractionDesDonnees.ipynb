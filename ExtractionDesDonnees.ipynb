{
 "cells": [
  {
   "cell_type": "code",
   "execution_count": 3,
   "metadata": {},
   "outputs": [
    {
     "data": {
      "text/plain": [
       "True"
      ]
     },
     "execution_count": 3,
     "metadata": {},
     "output_type": "execute_result"
    }
   ],
   "source": [
    "#préparer les image de paroles recupérer de la dataset\n",
    "import cv2\n",
    "import numpy as np\n",
    "img=[]\n",
    "img1=cv2.imread('/Users/massino/Downloads/Lip-reading-by-CNN-and-LSTM-architecture-master/dataset/Cascade/1/1/1.jpg')\n",
    "img2=cv2.imread('/Users/massino/Downloads/Lip-reading-by-CNN-and-LSTM-architecture-master/dataset/Cascade/1/1/2.jpg')\n",
    "\n",
    "im_h = cv2.hconcat([img1, img2])\n",
    "for i in range(2,9):\n",
    "  img.append(cv2.imread('/Users/massino/Downloads/Lip-reading-by-CNN-and-LSTM-architecture-master/dataset/Cascade/1/1/'+str(i)+'.jpg'))\n",
    "\n",
    "for im in img :\n",
    "  im_h = cv2.hconcat([im_h,im])\n",
    "cv2.imwrite('/Users/massino/Desktop/TensorFlow/datasets/America/america1.jpg', im_h)"
   ]
  },
  {
   "cell_type": "code",
   "execution_count": 21,
   "metadata": {},
   "outputs": [
    {
     "name": "stdout",
     "output_type": "stream",
     "text": [
      "['8.jpg', '9.jpg', '14.jpg', '15.jpg', '12.jpg', '13.jpg', '11.jpg', '10.jpg', '4.jpg', '5.jpg', '7.jpg', '6.jpg', '2.jpg', '3.jpg', '1.jpg']\n"
     ]
    }
   ],
   "source": [
    "import os\n",
    "print(os.listdir('./Cascade/1/1/'))"
   ]
  },
  {
   "cell_type": "code",
   "execution_count": 29,
   "metadata": {},
   "outputs": [],
   "source": [
    "#préparer les image de paroles recupérer de la dataset\n",
    "import cv2\n",
    "import numpy as np\n",
    "for j in range(1,len(os.listdir('./Cascade/1/'))):\n",
    "    img=[]\n",
    "    img1=cv2.imread('./Cascade/1/'+str(j)+'/1.jpg')\n",
    "    img2=cv2.imread('./Cascade/1/'+str(j)+'/2.jpg')\n",
    "    im_h = cv2.hconcat([img1, img2])\n",
    "    for i in range(2,len(os.listdir('./Cascade/1/'+str(j)))):\n",
    "       img.append(cv2.imread('./Cascade/1/'+str(j)+'/'+str(i)+'.jpg'))\n",
    "\n",
    "    for im in img :\n",
    "       im_h = cv2.hconcat([im_h,im])\n",
    "    cv2.imwrite('./datasets/America/america'+str(j)+'.jpg', im_h)"
   ]
  },
  {
   "cell_type": "code",
   "execution_count": 30,
   "metadata": {},
   "outputs": [],
   "source": [
    "#préparer les image de paroles recupérer de la dataset\n",
    "import cv2\n",
    "import numpy as np\n",
    "for j in range(1,len(os.listdir('./Cascade/2/'))):\n",
    "    img=[]\n",
    "    img1=cv2.imread('./Cascade/2/'+str(j)+'/1.jpg')\n",
    "    img2=cv2.imread('./Cascade/2/'+str(j)+'/2.jpg')\n",
    "    im_h = cv2.hconcat([img1, img2])\n",
    "    for i in range(2,len(os.listdir('./Cascade/2/'+str(j)))):\n",
    "       img.append(cv2.imread('./Cascade/2/'+str(j)+'/'+str(i)+'.jpg'))\n",
    "\n",
    "    for im in img :\n",
    "       im_h = cv2.hconcat([im_h,im])\n",
    "    cv2.imwrite('./datasets/Congress/congress'+str(j)+'.jpg', im_h)"
   ]
  },
  {
   "cell_type": "code",
   "execution_count": 31,
   "metadata": {},
   "outputs": [],
   "source": [
    "#préparer les image de paroles recupérer de la dataset\n",
    "import cv2\n",
    "import numpy as np\n",
    "for j in range(1,len(os.listdir('./Cascade/3/'))):\n",
    "    img=[]\n",
    "    img1=cv2.imread('./Cascade/3/'+str(j)+'/1.jpg')\n",
    "    img2=cv2.imread('./Cascade/3/'+str(j)+'/2.jpg')\n",
    "    im_h = cv2.hconcat([img1, img2])\n",
    "    for i in range(2,len(os.listdir('./Cascade/3/'+str(j)))):\n",
    "       img.append(cv2.imread('./Cascade/3/'+str(j)+'/'+str(i)+'.jpg'))\n",
    "\n",
    "    for im in img :\n",
    "       im_h = cv2.hconcat([im_h,im])\n",
    "    cv2.imwrite('./datasets/Journalist/journalist'+str(j)+'.jpg', im_h)"
   ]
  },
  {
   "cell_type": "code",
   "execution_count": 32,
   "metadata": {},
   "outputs": [],
   "source": [
    "#préparer les image de paroles recupérer de la dataset\n",
    "import cv2\n",
    "import numpy as np\n",
    "for j in range(1,len(os.listdir('./Cascade/4/'))):\n",
    "    img=[]\n",
    "    img1=cv2.imread('./Cascade/4/'+str(j)+'/1.jpg')\n",
    "    img2=cv2.imread('./Cascade/4/'+str(j)+'/2.jpg')\n",
    "    im_h = cv2.hconcat([img1, img2])\n",
    "    for i in range(2,len(os.listdir('./Cascade/4/'+str(j)))):\n",
    "       img.append(cv2.imread('./Cascade/4/'+str(j)+'/'+str(i)+'.jpg'))\n",
    "\n",
    "    for im in img :\n",
    "       im_h = cv2.hconcat([im_h,im])\n",
    "    cv2.imwrite('./datasets/News/news'+str(j)+'.jpg', im_h)"
   ]
  },
  {
   "cell_type": "code",
   "execution_count": null,
   "metadata": {},
   "outputs": [],
   "source": []
  }
 ],
 "metadata": {
  "kernelspec": {
   "display_name": "Python 3",
   "language": "python",
   "name": "python3"
  },
  "language_info": {
   "codemirror_mode": {
    "name": "ipython",
    "version": 3
   },
   "file_extension": ".py",
   "mimetype": "text/x-python",
   "name": "python",
   "nbconvert_exporter": "python",
   "pygments_lexer": "ipython3",
   "version": "3.8.5"
  }
 },
 "nbformat": 4,
 "nbformat_minor": 4
}
