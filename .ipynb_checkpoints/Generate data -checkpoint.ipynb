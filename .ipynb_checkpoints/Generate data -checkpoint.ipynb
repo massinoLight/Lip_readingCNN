{
 "cells": [
  {
   "cell_type": "code",
   "execution_count": 5,
   "metadata": {},
   "outputs": [
    {
     "ename": "error",
     "evalue": "OpenCV(4.5.1) /private/var/folders/nz/vv4_9tw56nv9k3tkvyszvwg80000gn/T/pip-req-build-39p1qqfs/opencv/modules/core/src/matrix_operations.cpp:68: error: (-215:Assertion failed) src[i].dims <= 2 && src[i].rows == src[0].rows && src[i].type() == src[0].type() in function 'hconcat'\n",
     "output_type": "error",
     "traceback": [
      "\u001b[0;31m---------------------------------------------------------------------------\u001b[0m",
      "\u001b[0;31merror\u001b[0m                                     Traceback (most recent call last)",
      "\u001b[0;32m<ipython-input-5-97115da5f175>\u001b[0m in \u001b[0;36m<module>\u001b[0;34m\u001b[0m\n\u001b[1;32m     11\u001b[0m \u001b[0;34m\u001b[0m\u001b[0m\n\u001b[1;32m     12\u001b[0m \u001b[0;32mfor\u001b[0m \u001b[0mim\u001b[0m \u001b[0;32min\u001b[0m \u001b[0mimg\u001b[0m \u001b[0;34m:\u001b[0m\u001b[0;34m\u001b[0m\u001b[0;34m\u001b[0m\u001b[0m\n\u001b[0;32m---> 13\u001b[0;31m   \u001b[0mim_h\u001b[0m \u001b[0;34m=\u001b[0m \u001b[0mcv2\u001b[0m\u001b[0;34m.\u001b[0m\u001b[0mhconcat\u001b[0m\u001b[0;34m(\u001b[0m\u001b[0;34m[\u001b[0m\u001b[0mim_h\u001b[0m\u001b[0;34m,\u001b[0m\u001b[0mim\u001b[0m\u001b[0;34m]\u001b[0m\u001b[0;34m)\u001b[0m\u001b[0;34m\u001b[0m\u001b[0;34m\u001b[0m\u001b[0m\n\u001b[0m\u001b[1;32m     14\u001b[0m \u001b[0mcv2\u001b[0m\u001b[0;34m.\u001b[0m\u001b[0mimwrite\u001b[0m\u001b[0;34m(\u001b[0m\u001b[0;34m'/Users/massino/Desktop/TensorFlow/datasets/America/america1.jpg'\u001b[0m\u001b[0;34m,\u001b[0m \u001b[0mim_h\u001b[0m\u001b[0;34m)\u001b[0m\u001b[0;34m\u001b[0m\u001b[0;34m\u001b[0m\u001b[0m\n",
      "\u001b[0;31merror\u001b[0m: OpenCV(4.5.1) /private/var/folders/nz/vv4_9tw56nv9k3tkvyszvwg80000gn/T/pip-req-build-39p1qqfs/opencv/modules/core/src/matrix_operations.cpp:68: error: (-215:Assertion failed) src[i].dims <= 2 && src[i].rows == src[0].rows && src[i].type() == src[0].type() in function 'hconcat'\n"
     ]
    }
   ],
   "source": [
    "#préparer les image de paroles recupérer de la dataset\n",
    "import cv2\n",
    "import numpy as np\n",
    "img=[]\n",
    "img1=cv2.imread('/Users/massino/Downloads/Lip-reading-by-CNN-and-LSTM-architecture-master/dataset/Cascade/1/1/1.jpg ')\n",
    "img2=cv2.imread('/Users/massino/Downloads/Lip-reading-by-CNN-and-LSTM-architecture-master/dataset/Cascade/1/1/2.jpg ')\n",
    "\n",
    "im_h = cv2.hconcat([img1, img2])\n",
    "\n",
    "cv2.imwrite('/Users/massino/Desktop/TensorFlow/datasets/America/america1.jpg', im_h)"
   ]
  },
  {
   "cell_type": "code",
   "execution_count": 3,
   "metadata": {},
   "outputs": [
    {
     "data": {
      "text/plain": [
       "True"
      ]
     },
     "execution_count": 3,
     "metadata": {},
     "output_type": "execute_result"
    }
   ],
   "source": [
    "#préparer les image de paroles recupérer de la dataset\n",
    "import cv2\n",
    "import numpy as np\n",
    "img=[]\n",
    "img1=cv2.imread('/Users/massino/Downloads/F02/words/01/01/color_001.jpg')\n",
    "img2=cv2.imread('/Users/massino/Downloads/F02/words/01/01/color_001.jpg')\n",
    "\n",
    "im_h = cv2.hconcat([img1, img2])\n",
    "for i in range(2,6):\n",
    "  img.append(cv2.imread('/Users/massino/Downloads/F02/words/01/01/color_00'+str(i)+'.jpg'))\n",
    "\n",
    "for im in img :\n",
    "  im_h = cv2.hconcat([im_h,im])\n",
    "cv2.imwrite('/Users/massino/Desktop/TensorFlow/datasets/Begin/begin2.jpg', im_h)\n",
    "\n",
    "\n"
   ]
  },
  {
   "cell_type": "code",
   "execution_count": 4,
   "metadata": {},
   "outputs": [
    {
     "data": {
      "text/plain": [
       "True"
      ]
     },
     "execution_count": 4,
     "metadata": {},
     "output_type": "execute_result"
    }
   ],
   "source": [
    "#préparer les image de paroles recupérer de la dataset\n",
    "import cv2\n",
    "import numpy as np\n",
    "img=[]\n",
    "img1=cv2.imread('/Users/massino/Downloads/F06/words/01/01/color_001.jpg')\n",
    "img2=cv2.imread('/Users/massino/Downloads/F06/words/01/01/color_001.jpg')\n",
    "\n",
    "im_h = cv2.hconcat([img1, img2])\n",
    "for i in range(2,10):\n",
    "  img.append(cv2.imread('/Users/massino/Downloads/F06/words/01/01/color_00'+str(i)+'.jpg'))\n",
    "\n",
    "for im in img :\n",
    "  im_h = cv2.hconcat([im_h,im])\n",
    "cv2.imwrite('/Users/massino/Desktop/TensorFlow/datasets/Begin/begin3.jpg', im_h)"
   ]
  },
  {
   "cell_type": "code",
   "execution_count": null,
   "metadata": {},
   "outputs": [],
   "source": []
  }
 ],
 "metadata": {
  "kernelspec": {
   "display_name": "Python 3",
   "language": "python",
   "name": "python3"
  },
  "language_info": {
   "codemirror_mode": {
    "name": "ipython",
    "version": 3
   },
   "file_extension": ".py",
   "mimetype": "text/x-python",
   "name": "python",
   "nbconvert_exporter": "python",
   "pygments_lexer": "ipython3",
   "version": "3.8.5"
  }
 },
 "nbformat": 4,
 "nbformat_minor": 4
}
